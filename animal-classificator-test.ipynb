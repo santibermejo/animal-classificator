{
  "nbformat": 4,
  "nbformat_minor": 0,
  "metadata": {
    "colab": {
      "name": "clasificador-animales-test.ipynb",
      "version": "0.3.2",
      "provenance": [],
      "collapsed_sections": [],
      "toc_visible": true
    },
    "kernelspec": {
      "name": "python3",
      "display_name": "Python 3"
    }
  },
  "cells": [
    {
      "metadata": {
        "id": "J5IOmzEIZuFg",
        "colab_type": "code",
        "colab": {}
      },
      "cell_type": "code",
      "source": [
        "import matplotlib.pyplot as plt\n",
        "import pandas as pd\n",
        "import numpy as np\n",
        "import matplotlib.image as mpimg\n",
        "import os\n",
        "import warnings\n",
        "import cv2\n",
        "\n",
        "from sklearn.preprocessing import LabelEncoder\n",
        "from sklearn.preprocessing import OneHotEncoder\n",
        "from sklearn.model_selection import train_test_split\n",
        "\n",
        "from keras.layers import (Activation, Dropout, Flatten, Dense, Input, Conv2D, \n",
        "                          MaxPooling2D, BatchNormalization, Concatenate,\n",
        "                          Conv2DTranspose, concatenate)\n",
        "from keras.models import Sequential, model_from_json\n",
        "from keras import Model\n",
        "from keras.callbacks import EarlyStopping, ModelCheckpoint, ReduceLROnPlateau\n",
        "from keras.utils import Sequence\n",
        "\n",
        "from numpy import argmax\n",
        "from PIL import Image\n",
        "from tqdm import tqdm\n",
        "\n",
        "warnings.filterwarnings(action='ignore', category=DeprecationWarning)"
      ],
      "execution_count": 0,
      "outputs": []
    },
    {
      "metadata": {
        "id": "idlH35tw3gJv",
        "colab_type": "code",
        "colab": {
          "base_uri": "https://localhost:8080/",
          "height": 153
        },
        "outputId": "8771dcce-913b-47fc-dd0a-82f678849cd4"
      },
      "cell_type": "code",
      "source": [
        "from google.colab import drive\n",
        "drive.mount('/content/drive')\n",
        "!pip install --upgrade tables\n",
        "\n",
        "json_file = open('/content/drive/My Drive/Colab Notebooks/clasificador-animales/model.json', 'r')\n",
        "json_file = model\n",
        "json_file.close()\n",
        "loaded_model = model_from_json(loaded_model_json)\n",
        "print('Model uploaded!')\n",
        "\n",
        "loaded_model.load_weights('/content/drive/My Drive/Colab Notebooks/clasificador-animales/weights.h5')\n",
        "print('Weights uploaded!')\n",
        "\n",
        "label_encoder = LabelEncoder()\n",
        "label_encoder.classes_ = np.load('/content/drive/My Drive/Colab Notebooks/clasificador-animales/label_encoder.npy')\n",
        "print('LabelEncoder uploaded!')  "
      ],
      "execution_count": 98,
      "outputs": [
        {
          "output_type": "stream",
          "text": [
            "Drive already mounted at /content/drive; to attempt to forcibly remount, call drive.mount(\"/content/drive\", force_remount=True).\n",
            "Requirement already up-to-date: tables in /usr/local/lib/python3.6/dist-packages (3.4.4)\n",
            "Requirement already satisfied, skipping upgrade: numpy>=1.8.0 in /usr/local/lib/python3.6/dist-packages (from tables) (1.14.6)\n",
            "Requirement already satisfied, skipping upgrade: numexpr>=2.5.2 in /usr/local/lib/python3.6/dist-packages (from tables) (2.6.8)\n",
            "Requirement already satisfied, skipping upgrade: six>=1.9.0 in /usr/local/lib/python3.6/dist-packages (from tables) (1.11.0)\n",
            "Model uploaded!\n",
            "Weights uploaded!\n",
            "LabelEncoder uploaded!\n"
          ],
          "name": "stdout"
        }
      ]
    },
    {
      "metadata": {
        "id": "pisqDoTHHv_q",
        "colab_type": "code",
        "colab": {
          "base_uri": "https://localhost:8080/",
          "height": 34
        },
        "outputId": "0d937a08-c3a9-4c3c-9126-704f2a3c0d77"
      },
      "cell_type": "code",
      "source": [
        "'''\n",
        "# load json and create model\n",
        "json_file = open('model.json', 'r')\n",
        "loaded_model_json = json_file.read()\n",
        "json_file.close()\n",
        "loaded_model = model_from_json(loaded_model_json)\n",
        "\n",
        "# load weights into new model\n",
        "loaded_model.load_weights(\"model.h5\")\n",
        "print(\"Loaded model from disk\")\n",
        "\n",
        "label_encoder = LabelEncoder()\n",
        "label_encoder.classes_ = np.load('classes.npy')\n",
        "'''"
      ],
      "execution_count": 89,
      "outputs": [
        {
          "output_type": "stream",
          "text": [
            "Loaded model from disk\n"
          ],
          "name": "stdout"
        }
      ]
    },
    {
      "metadata": {
        "id": "_j_CCjrtIn4G",
        "colab_type": "code",
        "colab": {}
      },
      "cell_type": "code",
      "source": [
        "BATCH_SIZE = 32\n",
        "SHAPE = (128,128,3)"
      ],
      "execution_count": 0,
      "outputs": []
    },
    {
      "metadata": {
        "id": "LyJ_P3WhJ9iO",
        "colab_type": "code",
        "colab": {}
      },
      "cell_type": "code",
      "source": [
        "class AnimalGenerator(Sequence):\n",
        "  \n",
        "  def __init__(self, paths, labels, batch_size, shape, shuffle = False, use_cache = False):\n",
        "    self.paths, self.labels = paths, labels\n",
        "    self.batch_size = batch_size\n",
        "    self.shape = shape\n",
        "    self.shuffle = shuffle\n",
        "    self.use_cache = use_cache\n",
        "    if use_cache == True:\n",
        "        self.cache = np.zeros((paths.shape[0], shape[0], shape[1], shape[2]), dtype=np.float16)\n",
        "        self.is_cached = np.zeros((paths.shape[0]))\n",
        "    self.on_epoch_end()\n",
        "    \n",
        "  def __len__(self):\n",
        "    return int(np.ceil(len(self.paths)/float(self.batch_size)))\n",
        "  \n",
        "  def __getitem__(self, idx):\n",
        "    indexes = self.indexes[idx * self.batch_size : (idx+1) * self.batch_size]\n",
        "\n",
        "    paths = self.paths[indexes]\n",
        "    X = np.zeros((paths.shape[0], self.shape[0], self.shape[1], self.shape[2]))\n",
        "    # Generate data\n",
        "    if self.use_cache == True:\n",
        "        X = self.cache[indexes]\n",
        "        for i, path in enumerate(paths[np.where(self.is_cached[indexes] == 0)]):\n",
        "            image = self.__load_image(path)\n",
        "            self.is_cached[indexes[i]] = 1\n",
        "            self.cache[indexes[i]] = image\n",
        "            X[i] = image\n",
        "    else:\n",
        "        for i, path in enumerate(paths):\n",
        "            X[i] = self.__load_image(path)\n",
        "\n",
        "    y = self.labels[indexes]\n",
        "\n",
        "    return X, y\n",
        "  \n",
        "  def __load_image(self, path):\n",
        "    im = cv2.imread(path)\n",
        "    im = cv2.resize(im, (SHAPE[0], SHAPE[1]), interpolation=cv2.INTER_CUBIC)\n",
        "    im = np.divide(im, 255)\n",
        "    return im\n",
        "    \n",
        "  def on_epoch_end(self):\n",
        "      # Updates indexes after each epoch\n",
        "      self.indexes = np.arange(len(self.paths))\n",
        "      if self.shuffle == True:\n",
        "          np.random.shuffle(self.indexes)\n",
        "\n",
        "  def __iter__(self):\n",
        "      \"\"\"Create a generator that iterate over the Sequence.\"\"\"\n",
        "      for item in (self[i] for i in range(len(self))):\n",
        "          yield item\n"
      ],
      "execution_count": 0,
      "outputs": []
    },
    {
      "metadata": {
        "id": "bYBKkvBDrOQj",
        "colab_type": "code",
        "colab": {}
      },
      "cell_type": "code",
      "source": [
        "def translator(x):\n",
        "    return {\n",
        "        'cane': 'Perro',\n",
        "        'cavallo': 'Caballo',\n",
        "        'elefante': 'Elefante',\n",
        "        'farfalla': 'Mariposa',\n",
        "        'gallina': 'Gallina',\n",
        "        'gatto': 'Gato',\n",
        "        'mucca': 'Vaca',\n",
        "        'pecora': 'Oveja',\n",
        "        'ragno': 'Araña',\n",
        "        'scoiattolo': 'Ardilla',\n",
        "    }[x]"
      ],
      "execution_count": 0,
      "outputs": []
    },
    {
      "metadata": {
        "id": "ZrlJSFT4Zo0W",
        "colab_type": "code",
        "colab": {
          "base_uri": "https://localhost:8080/",
          "height": 221
        },
        "outputId": "d9c9354f-8089-43d2-85ed-8d1c699a5653"
      },
      "cell_type": "code",
      "source": [
        "paths = ['/content/drive/My Drive/Colab Notebooks/clasificador-animales/image.jpg']\n",
        "labels = ['']\n",
        "\n",
        "paths = np.array(paths)\n",
        "labels = np.array(labels)\n",
        "\n",
        "animal_gen = AnimalGenerator(paths, labels, BATCH_SIZE, SHAPE, use_cache=True, shuffle = False)\n",
        "\n",
        "animal_pred = loaded_model.predict_generator(animal_gen)\n",
        "\n",
        "# invert first example\n",
        "inverted = label_encoder.inverse_transform([argmax(animal_pred[0])])\n",
        "animal = inverted[0].decode('UTF-8')\n",
        "\n",
        "print('Perro:    {:6.2f} %'.format(animal_pred[0][0]*100))\n",
        "print('Caballo:  {:6.2f} %'.format(animal_pred[0][1]*100))\n",
        "print('Elefante: {:6.2f} %'.format(animal_pred[0][2]*100))\n",
        "print('Mariposa: {:6.2f} %'.format(animal_pred[0][3]*100))\n",
        "print('Gallina:  {:6.2f} %'.format(animal_pred[0][4]*100))\n",
        "print('Gato:     {:6.2f} %'.format(animal_pred[0][5]*100))\n",
        "print('Vaca:     {:6.2f} %'.format(animal_pred[0][6]*100))\n",
        "print('Oveja:    {:6.2f} %'.format(animal_pred[0][7]*100))\n",
        "print('Araña:    {:6.2f} %'.format(animal_pred[0][8]*100))\n",
        "print('Ardilla:  {:6.2f} %'.format(animal_pred[0][9]*100))\n",
        "print('')\n",
        "print('Predicción: ', translator(animal))"
      ],
      "execution_count": 136,
      "outputs": [
        {
          "output_type": "stream",
          "text": [
            "Perro:      5.93 %\n",
            "Caballo:    0.03 %\n",
            "Elefante:   0.44 %\n",
            "Mariposa:   0.08 %\n",
            "Gallina:    0.63 %\n",
            "Gato:      82.09 %\n",
            "Vaca:       0.08 %\n",
            "Oveja:      0.47 %\n",
            "Araña:      4.47 %\n",
            "Ardilla:    5.80 %\n",
            "\n",
            "Predicción:  Gato\n"
          ],
          "name": "stdout"
        }
      ]
    }
  ]
}